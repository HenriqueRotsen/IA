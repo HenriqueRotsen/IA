{
 "cells": [
  {
   "cell_type": "markdown",
   "metadata": {},
   "source": [
    "# Introdução\n",
    "O objetivo deste trabalho prático é o desenvolver 2 algoritmos de aprendizado de máquina para prever o tempo de permanência de um atleta na NBA, e agrupar os dados dos atletas em grupos.\n",
    "Foi composto por duas partes: \n",
    "Aprendizado supervisionado: Algoritmo KNN (K Nearest Neightbours) e,\n",
    "Aprendizado não supervisionado: Algoritmo K-means."
   ]
  },
  {
   "cell_type": "code",
   "execution_count": 5,
   "metadata": {},
   "outputs": [],
   "source": [
    "import pandas as pd\n",
    "import numpy as np"
   ]
  },
  {
   "cell_type": "markdown",
   "metadata": {},
   "source": [
    "## Importando bibliotecas e lendo os dados "
   ]
  },
  {
   "cell_type": "code",
   "execution_count": 6,
   "metadata": {},
   "outputs": [],
   "source": [
    "df_treino = pd.read_csv('nba_treino.csv')\n",
    "df_teste = pd.read_csv('nba_teste.csv')"
   ]
  },
  {
   "cell_type": "markdown",
   "metadata": {},
   "source": [
    "Separando os atributos (X) e o rótulo (y)"
   ]
  },
  {
   "cell_type": "code",
   "execution_count": 7,
   "metadata": {},
   "outputs": [],
   "source": [
    "# Separando os atributos (X) e o rótulo (y)\n",
    "X_treino = df_treino.drop('TARGET_5Yrs', axis=1)\n",
    "y_treino = df_treino['TARGET_5Yrs']\n",
    "\n",
    "X_teste = df_teste.drop('TARGET_5Yrs', axis=1)\n",
    "y_teste = df_teste['TARGET_5Yrs']"
   ]
  },
  {
   "cell_type": "markdown",
   "metadata": {},
   "source": [
    "# Código"
   ]
  },
  {
   "cell_type": "markdown",
   "metadata": {},
   "source": [
    "## Funções Auxiliares do KNN"
   ]
  },
  {
   "cell_type": "markdown",
   "metadata": {},
   "source": [
    "Começamos com uma o cálculo da distância entre 2 pontos, que será usada para sabermos quais são os vizinhos mais próximos."
   ]
  },
  {
   "cell_type": "code",
   "execution_count": 8,
   "metadata": {},
   "outputs": [],
   "source": [
    "def distancia_euclidiana(ponto1, ponto2):\n",
    "    return np.sqrt(np.sum((ponto1 - ponto2) ** 2))"
   ]
  },
  {
   "cell_type": "markdown",
   "metadata": {},
   "source": [
    "Os vizinhos mais próximos são escolhidos com base na distância euclidiana, e a classe ou valor mais comum entre esses vizinhos é atribuído ao ponto de teste."
   ]
  },
  {
   "cell_type": "code",
   "execution_count": 9,
   "metadata": {},
   "outputs": [],
   "source": [
    "def encontrar_vizinhos(X_treino, y_treino, ponto_teste, k):\n",
    "    distancias = []\n",
    "\n",
    "    for i in range(len(X_treino)):\n",
    "        dist = distancia_euclidiana(X_treino.iloc[i], ponto_teste)\n",
    "        distancias.append((dist, y_treino.iloc[i]))\n",
    "\n",
    "    distancias = sorted(distancias)[:k]\n",
    "    vizinhos = [vizinho[1] for vizinho in distancias]\n",
    "\n",
    "    return vizinhos"
   ]
  },
  {
   "cell_type": "markdown",
   "metadata": {},
   "source": [
    "Aqui encapsulamos o processo de prever a classe de um ponto de teste. Ele encontra os vizinhos mais próximos e determina a classe predita com base nos rótulos desses vizinhos."
   ]
  },
  {
   "cell_type": "code",
   "execution_count": 10,
   "metadata": {},
   "outputs": [],
   "source": [
    "# Função para prever a classe de um ponto de teste\n",
    "def prever_classe(X_treino, y_treino, ponto_teste, k):\n",
    "    vizinhos = encontrar_vizinhos(X_treino, y_treino, ponto_teste, k)\n",
    "    classe_predita = max(set(vizinhos), key=vizinhos.count)\n",
    "    return classe_predita"
   ]
  },
  {
   "cell_type": "markdown",
   "metadata": {},
   "source": [
    "Agora treinamos um modelo KNN com um valor específico de k, fazemos previsões nos dados de teste e calculamos várias métricas de desempenho para avaliar o modelo. Esse processo é repetido para diferentes valores de k, conforme a função é chamada com valores diferentes."
   ]
  },
  {
   "cell_type": "code",
   "execution_count": 11,
   "metadata": {},
   "outputs": [],
   "source": [
    "# Função para treinar e avaliar o modelo com diferentes valores de k\n",
    "def avaliar_knn(k):\n",
    "    y_pred = []\n",
    "\n",
    "    for i in range(len(X_teste)):\n",
    "        predicao = prever_classe(X_treino, y_treino, X_teste.iloc[i], k)\n",
    "        y_pred.append(predicao)\n",
    "\n",
    "    # Calculando métricas de desempenho\n",
    "    matriz_confusao = pd.crosstab(np.array(y_teste), np.array(y_pred), rownames=['Real'], colnames=['Predito'])\n",
    "    acuracia = np.mean(y_teste == y_pred)\n",
    "    revocacao = matriz_confusao[1][1]/(matriz_confusao[1][1]+matriz_confusao[0][1])\n",
    "    precisao = matriz_confusao[1][1]/(matriz_confusao[1][1]+matriz_confusao[1][0])\n",
    "    f1 = (2*precisao*revocacao)/(precisao+revocacao)\n",
    "\n",
    "    # Exibindo resultados\n",
    "    print(f'Matriz de Confusão (k={k}):\\n{matriz_confusao}')\n",
    "    print(f'Acurácia: {acuracia:.4f}')\n",
    "    print(f'Precisão: {precisao:.4f}')\n",
    "    print(f'Revocação: {revocacao:.4f}')\n",
    "    print(f'F1: {f1:.4f}\\n')"
   ]
  },
  {
   "cell_type": "markdown",
   "metadata": {},
   "source": [
    "Aqui eu faço os testes.\n",
    "\n",
    "Gostaria de colocar uma observação para ser considerada na hora da correção.\n",
    "\n",
    "Meu código tem um resultado bem semelhante ao do SKLearn, como você poderá ver. Porém por algum motivo ele retorna valores diferentes dos que eu testei de outros colegas. Até cheguei a conversar e pedir ajuda, porém não consegui resolver essa questão, mas volto a dizer, acredito que esteja correto, já que mostra a mesma coisa do SKLearn."
   ]
  },
  {
   "cell_type": "code",
   "execution_count": 12,
   "metadata": {},
   "outputs": [
    {
     "name": "stdout",
     "output_type": "stream",
     "text": [
      "Matriz de Confusão (k=2):\n",
      "Predito   0   1\n",
      "Real           \n",
      "0        73  27\n",
      "1        94  74\n",
      "Acurácia: 0.5485\n",
      "Precisão: 0.7327\n",
      "Revocação: 0.4405\n",
      "F1: 0.5502\n",
      "\n",
      "Matriz de Confusão (k=10):\n",
      "Predito   0    1\n",
      "Real            \n",
      "0        58   42\n",
      "1        57  111\n",
      "Acurácia: 0.6306\n",
      "Precisão: 0.7255\n",
      "Revocação: 0.6607\n",
      "F1: 0.6916\n",
      "\n",
      "Matriz de Confusão (k=17):\n",
      "Predito   0    1\n",
      "Real            \n",
      "0        50   50\n",
      "1        42  126\n",
      "Acurácia: 0.6567\n",
      "Precisão: 0.7159\n",
      "Revocação: 0.7500\n",
      "F1: 0.7326\n",
      "\n",
      "Matriz de Confusão (k=50):\n",
      "Predito   0    1\n",
      "Real            \n",
      "0        54   46\n",
      "1        42  126\n",
      "Acurácia: 0.6716\n",
      "Precisão: 0.7326\n",
      "Revocação: 0.7500\n",
      "F1: 0.7412\n",
      "\n",
      "Matriz de Confusão (k=75):\n",
      "Predito   0    1\n",
      "Real            \n",
      "0        54   46\n",
      "1        42  126\n",
      "Acurácia: 0.6716\n",
      "Precisão: 0.7326\n",
      "Revocação: 0.7500\n",
      "F1: 0.7412\n",
      "\n"
     ]
    }
   ],
   "source": [
    "# Testando o modelo com diferentes valores de k\n",
    "valores_k = [2, 10, 17, 50, 75]\n",
    "for k in valores_k:\n",
    "    avaliar_knn(k)"
   ]
  },
  {
   "cell_type": "markdown",
   "metadata": {},
   "source": [
    "Podemos ver que aumentar o valor de k parece melhorar o desempenho do modelo, especialmente em termos de acurácia e F1-Score.\n",
    "Para k=2, a revocação é relativamente baixa, indicando que o modelo tem dificuldade em identificar corretamente as instâncias positivas.\n",
    "Conforme k aumenta, a precisão se mantém alta e a revocação melhora, sugerindo uma melhor capacidade de balancear a identificação correta de positivos e negativos."
   ]
  },
  {
   "cell_type": "code",
   "execution_count": 13,
   "metadata": {},
   "outputs": [],
   "source": [
    "from sklearn.neighbors import KNeighborsClassifier\n",
    "from sklearn.metrics import confusion_matrix, accuracy_score, precision_score, recall_score, f1_score\n",
    "\n",
    "# Função para treinar e avaliar o modelo com diferentes valores de k\n",
    "def avaliar_knn_SKLearn(k):\n",
    "    # Criando o modelo KNN\n",
    "    modelo = KNeighborsClassifier(k)\n",
    "\n",
    "    # Treinando o modelo\n",
    "    modelo.fit(X_treino, y_treino)\n",
    "\n",
    "    # Fazendo previsões no conjunto de validação\n",
    "    y_pred = modelo.predict(X_teste)\n",
    "\n",
    "    # Calculando métricas de desempenho\n",
    "    matriz_confusao = confusion_matrix(y_teste, y_pred)\n",
    "    acuracia = accuracy_score(y_teste, y_pred)\n",
    "    precisao = precision_score(y_teste, y_pred)\n",
    "    revocacao = recall_score(y_teste, y_pred)\n",
    "    f1 = f1_score(y_teste, y_pred)\n",
    "\n",
    "    # Exibindo resultados\n",
    "    print(f'Matriz de Confusão (k={k}):\\n{matriz_confusao}')\n",
    "    print(f'Acurácia: {acuracia:.4f}')\n",
    "    print(f'Precisão: {precisao:.4f}')\n",
    "    print(f'Revocação: {revocacao:.4f}')\n",
    "    print(f'F1: {f1:.4f}\\n')\n"
   ]
  },
  {
   "cell_type": "code",
   "execution_count": 14,
   "metadata": {},
   "outputs": [
    {
     "name": "stdout",
     "output_type": "stream",
     "text": [
      "Matriz de Confusão (k=2):\n",
      "[[73 27]\n",
      " [93 75]]\n",
      "Acurácia: 0.5522\n",
      "Precisão: 0.7353\n",
      "Revocação: 0.4464\n",
      "F1: 0.5556\n",
      "\n",
      "Matriz de Confusão (k=10):\n",
      "[[ 58  42]\n",
      " [ 57 111]]\n",
      "Acurácia: 0.6306\n",
      "Precisão: 0.7255\n",
      "Revocação: 0.6607\n",
      "F1: 0.6916\n",
      "\n",
      "Matriz de Confusão (k=17):\n",
      "[[ 50  50]\n",
      " [ 42 126]]\n",
      "Acurácia: 0.6567\n",
      "Precisão: 0.7159\n",
      "Revocação: 0.7500\n",
      "F1: 0.7326\n",
      "\n",
      "Matriz de Confusão (k=50):\n",
      "[[ 54  46]\n",
      " [ 42 126]]\n",
      "Acurácia: 0.6716\n",
      "Precisão: 0.7326\n",
      "Revocação: 0.7500\n",
      "F1: 0.7412\n",
      "\n",
      "Matriz de Confusão (k=75):\n",
      "[[ 54  46]\n",
      " [ 42 126]]\n",
      "Acurácia: 0.6716\n",
      "Precisão: 0.7326\n",
      "Revocação: 0.7500\n",
      "F1: 0.7412\n",
      "\n"
     ]
    }
   ],
   "source": [
    "# Testando o modelo com diferentes valores de k\n",
    "valores_k = [2, 10, 17, 50, 75]\n",
    "for k in valores_k:\n",
    "    avaliar_knn_SKLearn(k)"
   ]
  },
  {
   "cell_type": "markdown",
   "metadata": {},
   "source": [
    "# Discuções"
   ]
  },
  {
   "cell_type": "markdown",
   "metadata": {},
   "source": [
    "Podemos ver que, meu código parece estar rodando de acordo com o SKLearn, porém com o problema dito mais acima. No mais, tive um pouco mais dificuldade com as métricas e com a função de prever a classe."
   ]
  }
 ],
 "metadata": {
  "kernelspec": {
   "display_name": "Python 3",
   "language": "python",
   "name": "python3"
  },
  "language_info": {
   "codemirror_mode": {
    "name": "ipython",
    "version": 3
   },
   "file_extension": ".py",
   "mimetype": "text/x-python",
   "name": "python",
   "nbconvert_exporter": "python",
   "pygments_lexer": "ipython3",
   "version": "3.8.10"
  }
 },
 "nbformat": 4,
 "nbformat_minor": 2
}
