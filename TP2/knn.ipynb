{
 "cells": [
  {
   "cell_type": "markdown",
   "metadata": {},
   "source": [
    "# Introdução\n",
    "O objetivo deste trabalho prático é o desenvolver 2 algoritmos de aprendizado de máquina para prever o tempo de permanência de um atleta na NBA, e agrupar os dados dos atletas em grupos.\n",
    "Foi composto por duas partes: \n",
    "Aprendizado supervisionado: Algoritmo KNN (K Nearest Neightbours) e,\n",
    "Aprendizado não supervisionado: Algoritmo K-means."
   ]
  },
  {
   "cell_type": "code",
   "execution_count": 1,
   "metadata": {},
   "outputs": [],
   "source": [
    "import pandas as pd\n",
    "import numpy as np"
   ]
  },
  {
   "cell_type": "markdown",
   "metadata": {},
   "source": [
    "## Importando bibliotecas e lendo os dados "
   ]
  },
  {
   "cell_type": "code",
   "execution_count": 2,
   "metadata": {},
   "outputs": [],
   "source": [
    "df_treino = pd.read_csv('nba_treino.csv')\n",
    "df_teste = pd.read_csv('nba_teste.csv')"
   ]
  },
  {
   "cell_type": "markdown",
   "metadata": {},
   "source": [
    "Separando os atributos (X) e o rótulo (y)"
   ]
  },
  {
   "cell_type": "code",
   "execution_count": 7,
   "metadata": {},
   "outputs": [],
   "source": [
    "# Separando os atributos (X) e o rótulo (y)\n",
    "X_treino = df_treino.drop('TARGET_5Yrs', axis=1)\n",
    "y_treino = df_treino['TARGET_5Yrs']\n",
    "\n",
    "X_teste = df_teste.drop('TARGET_5Yrs', axis=1)\n",
    "y_teste = df_teste['TARGET_5Yrs']"
   ]
  },
  {
   "cell_type": "markdown",
   "metadata": {},
   "source": [
    "## Funções Auxiliares do KNN"
   ]
  },
  {
   "cell_type": "markdown",
   "metadata": {},
   "source": [
    "Começamos com uma o cálculo da distância entre 2 pontos, que será usada para sabermos quais são os vizinhos mais próximos."
   ]
  },
  {
   "cell_type": "code",
   "execution_count": 6,
   "metadata": {},
   "outputs": [],
   "source": [
    "def distancia_euclidiana(ponto1, ponto2):\n",
    "    return np.sqrt(np.sum((ponto1 - ponto2) ** 2))"
   ]
  },
  {
   "cell_type": "markdown",
   "metadata": {},
   "source": [
    "Os vizinhos mais próximos são escolhidos com base na distância euclidiana, e a classe ou valor mais comum entre esses vizinhos é atribuído ao ponto de teste."
   ]
  },
  {
   "cell_type": "code",
   "execution_count": 5,
   "metadata": {},
   "outputs": [],
   "source": [
    "def encontrar_vizinhos(X_treino, y_treino, ponto_teste, k):\n",
    "    distancias = []\n",
    "\n",
    "    for i in range(len(X_treino)):\n",
    "        dist = distancia_euclidiana(X_treino.iloc[i], ponto_teste)\n",
    "        distancias.append((dist, y_treino.iloc[i]))\n",
    "\n",
    "    distancias = sorted(distancias)[:k]\n",
    "    vizinhos = [vizinho[1] for vizinho in distancias]\n",
    "\n",
    "    return vizinhos"
   ]
  },
  {
   "cell_type": "markdown",
   "metadata": {},
   "source": [
    "Aqui encapsulamos o processo de prever a classe de um ponto de teste. Ele encontra os vizinhos mais próximos e determina a classe predita com base nos rótulos desses vizinhos."
   ]
  },
  {
   "cell_type": "code",
   "execution_count": 4,
   "metadata": {},
   "outputs": [],
   "source": [
    "# Função para prever a classe de um ponto de teste\n",
    "def prever_classe(X_treino, y_treino, ponto_teste, k):\n",
    "    vizinhos = encontrar_vizinhos(X_treino, y_treino, ponto_teste, k)\n",
    "    classe_predita = max(set(vizinhos), key=vizinhos.count)\n",
    "    return classe_predita"
   ]
  },
  {
   "cell_type": "markdown",
   "metadata": {},
   "source": [
    "Agora treinamos um modelo KNN com um valor específico de k, fazemos previsões nos dados de teste e calculamos várias métricas de desempenho para avaliar o modelo. Esse processo é repetido para diferentes valores de k, conforme a função é chamada com valores diferentes."
   ]
  },
  {
   "cell_type": "code",
   "execution_count": 22,
   "metadata": {},
   "outputs": [],
   "source": [
    "# Função para treinar e avaliar o modelo com diferentes valores de k\n",
    "def avaliar_knn(k):\n",
    "    y_pred = []\n",
    "\n",
    "    for i in range(len(X_teste)):\n",
    "        predicao = prever_classe(X_treino, y_treino, X_teste.iloc[i], k)\n",
    "        y_pred.append(predicao)\n",
    "\n",
    "    # Calculando métricas de desempenho\n",
    "    matriz_confusao = pd.crosstab(np.array(y_teste), np.array(y_pred), rownames=['Real'], colnames=['Predito'])\n",
    "    acuracia = np.mean(y_teste == y_pred)\n",
    "    revocacao = matriz_confusao[0][0]/(matriz_confusao[0][0]+matriz_confusao[0][1])\n",
    "    precisao = matriz_confusao[0][0]/(matriz_confusao[0][0]+matriz_confusao[1][0])\n",
    "    f1 = (2*precisao*revocacao)/(precisao+revocacao)\n",
    "\n",
    "    # Exibindo resultados\n",
    "    print(f'Matriz de Confusão (k={k}):\\n{matriz_confusao}')\n",
    "    print(f'Acurácia: {acuracia:.4f}\\n')\n",
    "    print(f'Precisão: {precisao:.4f}')\n",
    "    print(f'Revocação: {revocacao:.4f}')\n",
    "    print(f'F1: {f1:.4f}\\n')"
   ]
  },
  {
   "cell_type": "code",
   "execution_count": 23,
   "metadata": {},
   "outputs": [
    {
     "name": "stdout",
     "output_type": "stream",
     "text": [
      "Resultados para k=2:\n",
      "Matriz de Confusão:\n",
      "TP: 74, TN: 73, FP: 27, FN: 94\n",
      "Acurácia: 0.5485074626865671\n",
      "Precisão: 0.7326732673267327\n",
      "Revocação: 0.44047619047619047\n",
      "F1 Score: 0.550185873605948\n",
      "\n",
      "\n"
     ]
    },
    {
     "ename": "KeyboardInterrupt",
     "evalue": "",
     "output_type": "error",
     "traceback": [
      "\u001b[0;31m---------------------------------------------------------------------------\u001b[0m",
      "\u001b[0;31mKeyboardInterrupt\u001b[0m                         Traceback (most recent call last)",
      "\u001b[1;32m/home/hrsf/Henrique/UFMG/7_Semestre/IA/TP2/knn.ipynb Cell 16\u001b[0m line \u001b[0;36m4\n\u001b[1;32m      <a href='vscode-notebook-cell://wsl%2Bubuntu-20.04/home/hrsf/Henrique/UFMG/7_Semestre/IA/TP2/knn.ipynb#X25sdnNjb2RlLXJlbW90ZQ%3D%3D?line=1'>2</a>\u001b[0m valores_k \u001b[39m=\u001b[39m [\u001b[39m2\u001b[39m, \u001b[39m10\u001b[39m, \u001b[39m50\u001b[39m, \u001b[39m75\u001b[39m]\n\u001b[1;32m      <a href='vscode-notebook-cell://wsl%2Bubuntu-20.04/home/hrsf/Henrique/UFMG/7_Semestre/IA/TP2/knn.ipynb#X25sdnNjb2RlLXJlbW90ZQ%3D%3D?line=2'>3</a>\u001b[0m \u001b[39mfor\u001b[39;00m k \u001b[39min\u001b[39;00m valores_k:\n\u001b[0;32m----> <a href='vscode-notebook-cell://wsl%2Bubuntu-20.04/home/hrsf/Henrique/UFMG/7_Semestre/IA/TP2/knn.ipynb#X25sdnNjb2RlLXJlbW90ZQ%3D%3D?line=3'>4</a>\u001b[0m     avaliar_knn(k)\n",
      "\u001b[1;32m/home/hrsf/Henrique/UFMG/7_Semestre/IA/TP2/knn.ipynb Cell 16\u001b[0m line \u001b[0;36m6\n\u001b[1;32m      <a href='vscode-notebook-cell://wsl%2Bubuntu-20.04/home/hrsf/Henrique/UFMG/7_Semestre/IA/TP2/knn.ipynb#X25sdnNjb2RlLXJlbW90ZQ%3D%3D?line=2'>3</a>\u001b[0m y_pred \u001b[39m=\u001b[39m []\n\u001b[1;32m      <a href='vscode-notebook-cell://wsl%2Bubuntu-20.04/home/hrsf/Henrique/UFMG/7_Semestre/IA/TP2/knn.ipynb#X25sdnNjb2RlLXJlbW90ZQ%3D%3D?line=4'>5</a>\u001b[0m \u001b[39mfor\u001b[39;00m i \u001b[39min\u001b[39;00m \u001b[39mrange\u001b[39m(\u001b[39mlen\u001b[39m(X_teste)):\n\u001b[0;32m----> <a href='vscode-notebook-cell://wsl%2Bubuntu-20.04/home/hrsf/Henrique/UFMG/7_Semestre/IA/TP2/knn.ipynb#X25sdnNjb2RlLXJlbW90ZQ%3D%3D?line=5'>6</a>\u001b[0m     predicao \u001b[39m=\u001b[39m prever_classe(X_treino, y_treino, X_teste\u001b[39m.\u001b[39;49miloc[i], k)\n\u001b[1;32m      <a href='vscode-notebook-cell://wsl%2Bubuntu-20.04/home/hrsf/Henrique/UFMG/7_Semestre/IA/TP2/knn.ipynb#X25sdnNjb2RlLXJlbW90ZQ%3D%3D?line=6'>7</a>\u001b[0m     y_pred\u001b[39m.\u001b[39mappend(predicao)\n\u001b[1;32m      <a href='vscode-notebook-cell://wsl%2Bubuntu-20.04/home/hrsf/Henrique/UFMG/7_Semestre/IA/TP2/knn.ipynb#X25sdnNjb2RlLXJlbW90ZQ%3D%3D?line=8'>9</a>\u001b[0m y_pred \u001b[39m=\u001b[39m np\u001b[39m.\u001b[39masarray(y_pred)\n",
      "\u001b[1;32m/home/hrsf/Henrique/UFMG/7_Semestre/IA/TP2/knn.ipynb Cell 16\u001b[0m line \u001b[0;36m3\n\u001b[1;32m      <a href='vscode-notebook-cell://wsl%2Bubuntu-20.04/home/hrsf/Henrique/UFMG/7_Semestre/IA/TP2/knn.ipynb#X25sdnNjb2RlLXJlbW90ZQ%3D%3D?line=1'>2</a>\u001b[0m \u001b[39mdef\u001b[39;00m \u001b[39mprever_classe\u001b[39m(X_treino, y_treino, ponto_teste, k):\n\u001b[0;32m----> <a href='vscode-notebook-cell://wsl%2Bubuntu-20.04/home/hrsf/Henrique/UFMG/7_Semestre/IA/TP2/knn.ipynb#X25sdnNjb2RlLXJlbW90ZQ%3D%3D?line=2'>3</a>\u001b[0m     vizinhos \u001b[39m=\u001b[39m encontrar_vizinhos(X_treino, y_treino, ponto_teste, k)\n\u001b[1;32m      <a href='vscode-notebook-cell://wsl%2Bubuntu-20.04/home/hrsf/Henrique/UFMG/7_Semestre/IA/TP2/knn.ipynb#X25sdnNjb2RlLXJlbW90ZQ%3D%3D?line=3'>4</a>\u001b[0m     classe_predita \u001b[39m=\u001b[39m \u001b[39mmax\u001b[39m(\u001b[39mset\u001b[39m(vizinhos), key\u001b[39m=\u001b[39mvizinhos\u001b[39m.\u001b[39mcount)\n\u001b[1;32m      <a href='vscode-notebook-cell://wsl%2Bubuntu-20.04/home/hrsf/Henrique/UFMG/7_Semestre/IA/TP2/knn.ipynb#X25sdnNjb2RlLXJlbW90ZQ%3D%3D?line=4'>5</a>\u001b[0m     \u001b[39mreturn\u001b[39;00m classe_predita\n",
      "\u001b[1;32m/home/hrsf/Henrique/UFMG/7_Semestre/IA/TP2/knn.ipynb Cell 16\u001b[0m line \u001b[0;36m5\n\u001b[1;32m      <a href='vscode-notebook-cell://wsl%2Bubuntu-20.04/home/hrsf/Henrique/UFMG/7_Semestre/IA/TP2/knn.ipynb#X25sdnNjb2RlLXJlbW90ZQ%3D%3D?line=1'>2</a>\u001b[0m distancias \u001b[39m=\u001b[39m []\n\u001b[1;32m      <a href='vscode-notebook-cell://wsl%2Bubuntu-20.04/home/hrsf/Henrique/UFMG/7_Semestre/IA/TP2/knn.ipynb#X25sdnNjb2RlLXJlbW90ZQ%3D%3D?line=3'>4</a>\u001b[0m \u001b[39mfor\u001b[39;00m i \u001b[39min\u001b[39;00m \u001b[39mrange\u001b[39m(\u001b[39mlen\u001b[39m(X_treino)):\n\u001b[0;32m----> <a href='vscode-notebook-cell://wsl%2Bubuntu-20.04/home/hrsf/Henrique/UFMG/7_Semestre/IA/TP2/knn.ipynb#X25sdnNjb2RlLXJlbW90ZQ%3D%3D?line=4'>5</a>\u001b[0m     dist \u001b[39m=\u001b[39m distancia_euclidiana(X_treino\u001b[39m.\u001b[39;49miloc[i], ponto_teste)\n\u001b[1;32m      <a href='vscode-notebook-cell://wsl%2Bubuntu-20.04/home/hrsf/Henrique/UFMG/7_Semestre/IA/TP2/knn.ipynb#X25sdnNjb2RlLXJlbW90ZQ%3D%3D?line=5'>6</a>\u001b[0m     distancias\u001b[39m.\u001b[39mappend((dist, y_treino\u001b[39m.\u001b[39miloc[i]))\n\u001b[1;32m      <a href='vscode-notebook-cell://wsl%2Bubuntu-20.04/home/hrsf/Henrique/UFMG/7_Semestre/IA/TP2/knn.ipynb#X25sdnNjb2RlLXJlbW90ZQ%3D%3D?line=7'>8</a>\u001b[0m distancias \u001b[39m=\u001b[39m \u001b[39msorted\u001b[39m(distancias)[:k]\n",
      "\u001b[1;32m/home/hrsf/Henrique/UFMG/7_Semestre/IA/TP2/knn.ipynb Cell 16\u001b[0m line \u001b[0;36m2\n\u001b[1;32m      <a href='vscode-notebook-cell://wsl%2Bubuntu-20.04/home/hrsf/Henrique/UFMG/7_Semestre/IA/TP2/knn.ipynb#X25sdnNjb2RlLXJlbW90ZQ%3D%3D?line=0'>1</a>\u001b[0m \u001b[39mdef\u001b[39;00m \u001b[39mdistancia_euclidiana\u001b[39m(ponto1, ponto2):\n\u001b[0;32m----> <a href='vscode-notebook-cell://wsl%2Bubuntu-20.04/home/hrsf/Henrique/UFMG/7_Semestre/IA/TP2/knn.ipynb#X25sdnNjb2RlLXJlbW90ZQ%3D%3D?line=1'>2</a>\u001b[0m     \u001b[39mreturn\u001b[39;00m np\u001b[39m.\u001b[39msqrt(np\u001b[39m.\u001b[39;49msum((ponto1 \u001b[39m-\u001b[39;49m ponto2) \u001b[39m*\u001b[39;49m\u001b[39m*\u001b[39;49m \u001b[39m2\u001b[39;49m))\n",
      "File \u001b[0;32m<__array_function__ internals>:180\u001b[0m, in \u001b[0;36msum\u001b[0;34m(*args, **kwargs)\u001b[0m\n",
      "File \u001b[0;32m~/.local/lib/python3.8/site-packages/numpy/core/fromnumeric.py:2298\u001b[0m, in \u001b[0;36msum\u001b[0;34m(a, axis, dtype, out, keepdims, initial, where)\u001b[0m\n\u001b[1;32m   2295\u001b[0m         \u001b[39mreturn\u001b[39;00m out\n\u001b[1;32m   2296\u001b[0m     \u001b[39mreturn\u001b[39;00m res\n\u001b[0;32m-> 2298\u001b[0m \u001b[39mreturn\u001b[39;00m _wrapreduction(a, np\u001b[39m.\u001b[39;49madd, \u001b[39m'\u001b[39;49m\u001b[39msum\u001b[39;49m\u001b[39m'\u001b[39;49m, axis, dtype, out, keepdims\u001b[39m=\u001b[39;49mkeepdims,\n\u001b[1;32m   2299\u001b[0m                       initial\u001b[39m=\u001b[39;49minitial, where\u001b[39m=\u001b[39;49mwhere)\n",
      "File \u001b[0;32m~/.local/lib/python3.8/site-packages/numpy/core/fromnumeric.py:84\u001b[0m, in \u001b[0;36m_wrapreduction\u001b[0;34m(obj, ufunc, method, axis, dtype, out, **kwargs)\u001b[0m\n\u001b[1;32m     82\u001b[0m             \u001b[39mreturn\u001b[39;00m reduction(axis\u001b[39m=\u001b[39maxis, dtype\u001b[39m=\u001b[39mdtype, out\u001b[39m=\u001b[39mout, \u001b[39m*\u001b[39m\u001b[39m*\u001b[39mpasskwargs)\n\u001b[1;32m     83\u001b[0m         \u001b[39melse\u001b[39;00m:\n\u001b[0;32m---> 84\u001b[0m             \u001b[39mreturn\u001b[39;00m reduction(axis\u001b[39m=\u001b[39;49maxis, out\u001b[39m=\u001b[39;49mout, \u001b[39m*\u001b[39;49m\u001b[39m*\u001b[39;49mpasskwargs)\n\u001b[1;32m     86\u001b[0m \u001b[39mreturn\u001b[39;00m ufunc\u001b[39m.\u001b[39mreduce(obj, axis, dtype, out, \u001b[39m*\u001b[39m\u001b[39m*\u001b[39mpasskwargs)\n",
      "File \u001b[0;32m~/.local/lib/python3.8/site-packages/pandas/core/generic.py:11797\u001b[0m, in \u001b[0;36mNDFrame._add_numeric_operations.<locals>.sum\u001b[0;34m(self, axis, skipna, level, numeric_only, min_count, **kwargs)\u001b[0m\n\u001b[1;32m  11777\u001b[0m \u001b[39m@doc\u001b[39m(\n\u001b[1;32m  11778\u001b[0m     _num_doc,\n\u001b[1;32m  11779\u001b[0m     desc\u001b[39m=\u001b[39m\u001b[39m\"\u001b[39m\u001b[39mReturn the sum of the values over the requested axis.\u001b[39m\u001b[39m\\n\u001b[39;00m\u001b[39m\\n\u001b[39;00m\u001b[39m\"\u001b[39m\n\u001b[0;32m   (...)\u001b[0m\n\u001b[1;32m  11795\u001b[0m     \u001b[39m*\u001b[39m\u001b[39m*\u001b[39mkwargs,\n\u001b[1;32m  11796\u001b[0m ):\n\u001b[0;32m> 11797\u001b[0m     \u001b[39mreturn\u001b[39;00m NDFrame\u001b[39m.\u001b[39;49msum(\n\u001b[1;32m  11798\u001b[0m         \u001b[39mself\u001b[39;49m, axis, skipna, level, numeric_only, min_count, \u001b[39m*\u001b[39;49m\u001b[39m*\u001b[39;49mkwargs\n\u001b[1;32m  11799\u001b[0m     )\n",
      "File \u001b[0;32m~/.local/lib/python3.8/site-packages/pandas/core/generic.py:11501\u001b[0m, in \u001b[0;36mNDFrame.sum\u001b[0;34m(self, axis, skipna, level, numeric_only, min_count, **kwargs)\u001b[0m\n\u001b[1;32m  11492\u001b[0m \u001b[39mdef\u001b[39;00m \u001b[39msum\u001b[39m(\n\u001b[1;32m  11493\u001b[0m     \u001b[39mself\u001b[39m,\n\u001b[1;32m  11494\u001b[0m     axis: Axis \u001b[39m|\u001b[39m \u001b[39mNone\u001b[39;00m \u001b[39m=\u001b[39m \u001b[39mNone\u001b[39;00m,\n\u001b[0;32m   (...)\u001b[0m\n\u001b[1;32m  11499\u001b[0m     \u001b[39m*\u001b[39m\u001b[39m*\u001b[39mkwargs,\n\u001b[1;32m  11500\u001b[0m ):\n\u001b[0;32m> 11501\u001b[0m     \u001b[39mreturn\u001b[39;00m \u001b[39mself\u001b[39;49m\u001b[39m.\u001b[39;49m_min_count_stat_function(\n\u001b[1;32m  11502\u001b[0m         \u001b[39m\"\u001b[39;49m\u001b[39msum\u001b[39;49m\u001b[39m\"\u001b[39;49m, nanops\u001b[39m.\u001b[39;49mnansum, axis, skipna, level, numeric_only, min_count, \u001b[39m*\u001b[39;49m\u001b[39m*\u001b[39;49mkwargs\n\u001b[1;32m  11503\u001b[0m     )\n",
      "File \u001b[0;32m~/.local/lib/python3.8/site-packages/pandas/core/generic.py:11483\u001b[0m, in \u001b[0;36mNDFrame._min_count_stat_function\u001b[0;34m(self, name, func, axis, skipna, level, numeric_only, min_count, **kwargs)\u001b[0m\n\u001b[1;32m  11467\u001b[0m     warnings\u001b[39m.\u001b[39mwarn(\n\u001b[1;32m  11468\u001b[0m         \u001b[39m\"\u001b[39m\u001b[39mUsing the level keyword in DataFrame and Series aggregations is \u001b[39m\u001b[39m\"\u001b[39m\n\u001b[1;32m  11469\u001b[0m         \u001b[39m\"\u001b[39m\u001b[39mdeprecated and will be removed in a future version. Use groupby \u001b[39m\u001b[39m\"\u001b[39m\n\u001b[0;32m   (...)\u001b[0m\n\u001b[1;32m  11472\u001b[0m         stacklevel\u001b[39m=\u001b[39mfind_stack_level(),\n\u001b[1;32m  11473\u001b[0m     )\n\u001b[1;32m  11474\u001b[0m     \u001b[39mreturn\u001b[39;00m \u001b[39mself\u001b[39m\u001b[39m.\u001b[39m_agg_by_level(\n\u001b[1;32m  11475\u001b[0m         name,\n\u001b[1;32m  11476\u001b[0m         axis\u001b[39m=\u001b[39maxis,\n\u001b[0;32m   (...)\u001b[0m\n\u001b[1;32m  11480\u001b[0m         numeric_only\u001b[39m=\u001b[39mnumeric_only,\n\u001b[1;32m  11481\u001b[0m     )\n\u001b[0;32m> 11483\u001b[0m \u001b[39mreturn\u001b[39;00m \u001b[39mself\u001b[39;49m\u001b[39m.\u001b[39;49m_reduce(\n\u001b[1;32m  11484\u001b[0m     func,\n\u001b[1;32m  11485\u001b[0m     name\u001b[39m=\u001b[39;49mname,\n\u001b[1;32m  11486\u001b[0m     axis\u001b[39m=\u001b[39;49maxis,\n\u001b[1;32m  11487\u001b[0m     skipna\u001b[39m=\u001b[39;49mskipna,\n\u001b[1;32m  11488\u001b[0m     numeric_only\u001b[39m=\u001b[39;49mnumeric_only,\n\u001b[1;32m  11489\u001b[0m     min_count\u001b[39m=\u001b[39;49mmin_count,\n\u001b[1;32m  11490\u001b[0m )\n",
      "File \u001b[0;32m~/.local/lib/python3.8/site-packages/pandas/core/series.py:4816\u001b[0m, in \u001b[0;36mSeries._reduce\u001b[0;34m(self, op, name, axis, skipna, numeric_only, filter_type, **kwds)\u001b[0m\n\u001b[1;32m   4812\u001b[0m     \u001b[39mraise\u001b[39;00m \u001b[39mNotImplementedError\u001b[39;00m(\n\u001b[1;32m   4813\u001b[0m         \u001b[39mf\u001b[39m\u001b[39m\"\u001b[39m\u001b[39mSeries.\u001b[39m\u001b[39m{\u001b[39;00mname\u001b[39m}\u001b[39;00m\u001b[39m does not implement \u001b[39m\u001b[39m{\u001b[39;00mkwd_name\u001b[39m}\u001b[39;00m\u001b[39m.\u001b[39m\u001b[39m\"\u001b[39m\n\u001b[1;32m   4814\u001b[0m     )\n\u001b[1;32m   4815\u001b[0m \u001b[39mwith\u001b[39;00m np\u001b[39m.\u001b[39merrstate(\u001b[39mall\u001b[39m\u001b[39m=\u001b[39m\u001b[39m\"\u001b[39m\u001b[39mignore\u001b[39m\u001b[39m\"\u001b[39m):\n\u001b[0;32m-> 4816\u001b[0m     \u001b[39mreturn\u001b[39;00m op(delegate, skipna\u001b[39m=\u001b[39;49mskipna, \u001b[39m*\u001b[39;49m\u001b[39m*\u001b[39;49mkwds)\n",
      "File \u001b[0;32m~/.local/lib/python3.8/site-packages/pandas/core/nanops.py:86\u001b[0m, in \u001b[0;36mdisallow.__call__.<locals>._f\u001b[0;34m(*args, **kwargs)\u001b[0m\n\u001b[1;32m     83\u001b[0m \u001b[39m@functools\u001b[39m\u001b[39m.\u001b[39mwraps(f)\n\u001b[1;32m     84\u001b[0m \u001b[39mdef\u001b[39;00m \u001b[39m_f\u001b[39m(\u001b[39m*\u001b[39margs, \u001b[39m*\u001b[39m\u001b[39m*\u001b[39mkwargs):\n\u001b[1;32m     85\u001b[0m     obj_iter \u001b[39m=\u001b[39m itertools\u001b[39m.\u001b[39mchain(args, kwargs\u001b[39m.\u001b[39mvalues())\n\u001b[0;32m---> 86\u001b[0m     \u001b[39mif\u001b[39;00m \u001b[39many\u001b[39;49m(\u001b[39mself\u001b[39;49m\u001b[39m.\u001b[39;49mcheck(obj) \u001b[39mfor\u001b[39;49;00m obj \u001b[39min\u001b[39;49;00m obj_iter):\n\u001b[1;32m     87\u001b[0m         f_name \u001b[39m=\u001b[39m f\u001b[39m.\u001b[39m\u001b[39m__name__\u001b[39m\u001b[39m.\u001b[39mreplace(\u001b[39m\"\u001b[39m\u001b[39mnan\u001b[39m\u001b[39m\"\u001b[39m, \u001b[39m\"\u001b[39m\u001b[39m\"\u001b[39m)\n\u001b[1;32m     88\u001b[0m         \u001b[39mraise\u001b[39;00m \u001b[39mTypeError\u001b[39;00m(\n\u001b[1;32m     89\u001b[0m             \u001b[39mf\u001b[39m\u001b[39m\"\u001b[39m\u001b[39mreduction operation \u001b[39m\u001b[39m'\u001b[39m\u001b[39m{\u001b[39;00mf_name\u001b[39m}\u001b[39;00m\u001b[39m'\u001b[39m\u001b[39m not allowed for this dtype\u001b[39m\u001b[39m\"\u001b[39m\n\u001b[1;32m     90\u001b[0m         )\n",
      "File \u001b[0;32m~/.local/lib/python3.8/site-packages/pandas/core/nanops.py:86\u001b[0m, in \u001b[0;36m<genexpr>\u001b[0;34m(.0)\u001b[0m\n\u001b[1;32m     83\u001b[0m \u001b[39m@functools\u001b[39m\u001b[39m.\u001b[39mwraps(f)\n\u001b[1;32m     84\u001b[0m \u001b[39mdef\u001b[39;00m \u001b[39m_f\u001b[39m(\u001b[39m*\u001b[39margs, \u001b[39m*\u001b[39m\u001b[39m*\u001b[39mkwargs):\n\u001b[1;32m     85\u001b[0m     obj_iter \u001b[39m=\u001b[39m itertools\u001b[39m.\u001b[39mchain(args, kwargs\u001b[39m.\u001b[39mvalues())\n\u001b[0;32m---> 86\u001b[0m     \u001b[39mif\u001b[39;00m \u001b[39many\u001b[39m(\u001b[39mself\u001b[39m\u001b[39m.\u001b[39mcheck(obj) \u001b[39mfor\u001b[39;00m obj \u001b[39min\u001b[39;00m obj_iter):\n\u001b[1;32m     87\u001b[0m         f_name \u001b[39m=\u001b[39m f\u001b[39m.\u001b[39m\u001b[39m__name__\u001b[39m\u001b[39m.\u001b[39mreplace(\u001b[39m\"\u001b[39m\u001b[39mnan\u001b[39m\u001b[39m\"\u001b[39m, \u001b[39m\"\u001b[39m\u001b[39m\"\u001b[39m)\n\u001b[1;32m     88\u001b[0m         \u001b[39mraise\u001b[39;00m \u001b[39mTypeError\u001b[39;00m(\n\u001b[1;32m     89\u001b[0m             \u001b[39mf\u001b[39m\u001b[39m\"\u001b[39m\u001b[39mreduction operation \u001b[39m\u001b[39m'\u001b[39m\u001b[39m{\u001b[39;00mf_name\u001b[39m}\u001b[39;00m\u001b[39m'\u001b[39m\u001b[39m not allowed for this dtype\u001b[39m\u001b[39m\"\u001b[39m\n\u001b[1;32m     90\u001b[0m         )\n",
      "\u001b[0;31mKeyboardInterrupt\u001b[0m: "
     ]
    }
   ],
   "source": [
    "# Testando o modelo com diferentes valores de k\n",
    "valores_k = [2, 10, 50, 75]\n",
    "for k in valores_k:\n",
    "    avaliar_knn(k)"
   ]
  },
  {
   "cell_type": "code",
   "execution_count": 16,
   "metadata": {},
   "outputs": [],
   "source": [
    "from sklearn.neighbors import KNeighborsClassifier\n",
    "from sklearn.metrics import confusion_matrix, accuracy_score, precision_score, recall_score, f1_score\n",
    "\n",
    "# Função para treinar e avaliar o modelo com diferentes valores de k\n",
    "def avaliar_knn_2(k):\n",
    "    # Criando o modelo KNN\n",
    "    modelo = KNeighborsClassifier(k)\n",
    "\n",
    "    # Treinando o modelo\n",
    "    modelo.fit(X_treino, y_treino)\n",
    "\n",
    "    # Fazendo previsões no conjunto de validação\n",
    "    y_pred = modelo.predict(X_teste)\n",
    "\n",
    "    # Calculando métricas de desempenho\n",
    "    matriz_confusao = confusion_matrix(y_teste, y_pred)\n",
    "    acuracia = accuracy_score(y_teste, y_pred)\n",
    "    precisao = precision_score(y_teste, y_pred)\n",
    "    revocacao = recall_score(y_teste, y_pred)\n",
    "    f1 = f1_score(y_teste, y_pred)\n",
    "\n",
    "    # Exibindo resultados\n",
    "    print(f'Matriz de Confusão (k={k}):\\n{matriz_confusao}')\n",
    "    print(f'Acurácia: {acuracia:.4f}')\n",
    "    print(f'Precisão: {precisao:.4f}')\n",
    "    print(f'Revocação: {revocacao:.4f}')\n",
    "    print(f'F1: {f1:.4f}\\n')\n"
   ]
  },
  {
   "cell_type": "code",
   "execution_count": null,
   "metadata": {},
   "outputs": [],
   "source": [
    "# Testando o modelo com diferentes valores de k\n",
    "valores_k = [2, 10, 50, 75]\n",
    "for k in valores_k:\n",
    "    avaliar_knn_2(k)"
   ]
  }
 ],
 "metadata": {
  "kernelspec": {
   "display_name": "Python 3",
   "language": "python",
   "name": "python3"
  },
  "language_info": {
   "codemirror_mode": {
    "name": "ipython",
    "version": 3
   },
   "file_extension": ".py",
   "mimetype": "text/x-python",
   "name": "python",
   "nbconvert_exporter": "python",
   "pygments_lexer": "ipython3",
   "version": "3.8.10"
  }
 },
 "nbformat": 4,
 "nbformat_minor": 2
}
